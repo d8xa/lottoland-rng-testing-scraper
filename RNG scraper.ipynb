{
 "cells": [
  {
   "cell_type": "code",
   "execution_count": null,
   "metadata": {},
   "outputs": [],
   "source": [
    "from scraper.core import LottoScraper\n",
    "from scraper.sampling import sample, write_sample, new_sample_filepath\n",
    "from pathlib import Path\n",
    "\n",
    "data_dir = Path('./data')"
   ]
  },
  {
   "cell_type": "code",
   "execution_count": null,
   "metadata": {},
   "outputs": [],
   "source": [
    "#if __name__ == \"__main__\": # not required for notebook\n",
    "scraper = LottoScraper()\n",
    "\n",
    "try:\n",
    "    sample(scraper, 100)\n",
    "    data_path = new_sample_filepath(data_dir)\n",
    "    write_sample(scraper.df, data_path)\n",
    "    \n",
    "finally:\n",
    "    scraper.close()"
   ]
  },
  {
   "cell_type": "code",
   "execution_count": 15,
   "metadata": {},
   "outputs": [],
   "source": [
    "df = read_samples(data_dir)"
   ]
  }
 ],
 "metadata": {
  "kernelspec": {
   "display_name": "scraping",
   "language": "python",
   "name": "python3"
  },
  "language_info": {
   "codemirror_mode": {
    "name": "ipython",
    "version": 3
   },
   "file_extension": ".py",
   "mimetype": "text/x-python",
   "name": "python",
   "nbconvert_exporter": "python",
   "pygments_lexer": "ipython3",
   "version": "3.13.3"
  }
 },
 "nbformat": 4,
 "nbformat_minor": 2
}
